{
  "nbformat": 4,
  "nbformat_minor": 0,
  "metadata": {
    "colab": {
      "provenance": [],
      "authorship_tag": "ABX9TyPVYMtGpS/Az4ofYsBj15D9",
      "include_colab_link": true
    },
    "kernelspec": {
      "name": "python3",
      "display_name": "Python 3"
    },
    "language_info": {
      "name": "python"
    }
  },
  "cells": [
    {
      "cell_type": "markdown",
      "metadata": {
        "id": "view-in-github",
        "colab_type": "text"
      },
      "source": [
        "<a href=\"https://colab.research.google.com/github/antonioii/Kitchen-AI/blob/main/Kitchen_AI.ipynb\" target=\"_parent\"><img src=\"https://colab.research.google.com/assets/colab-badge.svg\" alt=\"Open In Colab\"/></a>"
      ]
    },
    {
      "cell_type": "markdown",
      "source": [
        "# Kitchen-AI\n",
        "![KitchenAI](https://github.com/antonioii/Kitchen-AI/blob/main/Default_A_cartoon_robot_wearing_chef_clothes_gourmet_hat_has_a_2.png?raw=true)\n",
        "\n",
        "### **O Chef de IA que te guia passo a passo!**\n",
        "<br>\n",
        "\n",
        "Este projeto foi desenvolvido durante a **Imersão Dev** de IA da Alura em parceria com o Google (maio/2024), utilizando os conhecimentos adquiridos até a aula 4 sobre o uso da API do Gemini (Google ©), e o mais impressionante: **em apenas uma hora!** 🤯 (Gostaria de ter tido mais tempo, mas isso já mostra o quão poderosa é essa ferramenta).\n",
        "\n",
        "\n",
        "> O Kitchen-AI é um sistema de inteligência artificial que te ajuda a cozinhar, com instruções claras e detalhadas.\n",
        "   \n",
        "---\n",
        "<br>\n",
        "\n",
        "### **Como funciona?**\n",
        "Basta fornecer ao sistema uma lista de ingredientes que você possui, quando for solicitado, e o tipo de refeição que deseja preparar (ex: \"almoço\", \"janta\", \"sobremesa\").\n",
        "<br>\n",
        "<br>\n",
        "Utilizando algumas técnicas de **prompt engineering**, o sistema gera um passo a passo completo para a preparação da sua refeição, como um verdadeiro chef de cozinha!\n",
        "<br>\n",
        "<br>\n",
        "**Exemplo:**\n",
        "<br>\n",
        "**Input:**\n",
        "\n",
        "- Ingredientes: frango, batata, cebola, tomate, alho\n",
        "- Refeição: almoço\n",
        "<br>\n",
        "<br>\n",
        "\n",
        "**Output:**\n",
        "\n",
        "1. Corte o frango em cubos médios...\n",
        "2. Descasque e pique as batatas...\n",
        "3. ...\n",
        "<br>\n",
        "<br>\n",
        "**Fique à vontade para explorar e contribuir para o projeto!**\n",
        "<br>\n",
        "<br>\n",
        "\n",
        "---\n",
        "\n",
        "**Observação:** Este projeto ainda está em desenvolvimento, novas funcionalidades e melhorias podem ser adicionadas em breve como por exemplo incluir um sistema que recebe uma foto da geladeira, identifica quais itens ela possui e já processa a listagem dando o que pode ser feito.\n"
      ],
      "metadata": {
        "id": "z6URRCfcQzrt"
      }
    },
    {
      "cell_type": "markdown",
      "source": [
        "#### Instalação dos pacotes, importação de bibliotecas e configurando API Key:"
      ],
      "metadata": {
        "id": "C_ZWeNmvXlEy"
      }
    },
    {
      "cell_type": "code",
      "execution_count": 28,
      "metadata": {
        "id": "UQfXlqdg9sI3"
      },
      "outputs": [],
      "source": [
        "# Bloco instalação do SDK do geminai\n",
        "!pip install -q -U google.generativeai;\n",
        "import google.generativeai as genai\n",
        "\n",
        "# Importando a biblioteca para permitir respostas mais estéticas em markdown\n",
        "from IPython.display import Markdown, Image\n",
        "\n",
        "# Importando a biblioteca e configurando a API Key do Gemini\n",
        "from google.colab import userdata\n",
        "api_key=userdata.get(\"API_KEY_GEMINI\")\n",
        "genai.configure(api_key=api_key)\n",
        "\n",
        "#Inicializa o modelo já com uma temperatura de 0.5\n",
        "model = genai.GenerativeModel(model_name=\"gemini-1.5-pro-latest\",\n",
        "                              generation_config={\"temperature\": 0.5,})"
      ]
    },
    {
      "cell_type": "markdown",
      "source": [
        "#### Configurando persona e funcionamento utilizando de engenharia de prompt:"
      ],
      "metadata": {
        "id": "ZrmFsHkQXw5N"
      }
    },
    {
      "cell_type": "code",
      "source": [
        "print('\\n') #pulando uma linha por design estético\n",
        "\n",
        "#Gerar os INPUTS:\n",
        "ingredientes_input = input(\"Digite os ingredientes disponíveis em sua casa, separados por vírgula: \")\n",
        "ingredientes = [ingrediente.strip() for ingrediente in ingredientes_input.split(\",\")]\n",
        "\n",
        "refeicao = input(\"Qual a refeição do dia? (ex: café da manhã, almoço, jantar): \")\n",
        "\n",
        "#Gerar a resposta do modelo com os INPUTS oferecidos:\n",
        "text = (\n",
        "    \"\"\"Aja como um chef famoso, carismático, altamente inteligente e versátil, sem abrir mão da segurança, que ama auxiliar pessoas\n",
        "    com pouca experiência na cozinha.\n",
        "\n",
        "    Sua função é ajudar uma pessoa comum que possui a seguinte lista de ingredientes na cozinha dela: <{ingredientes}>\n",
        "    a fazer uma refeição simples, porém deliciosa. Essa pessoa irá usar estes itens para fazer o: <{refeicao}>.\n",
        "    Caso você perceba que acima não lhe foi informado algum alimento comestível, ou se não foi informado um tipo de refeição válido (como\n",
        "    cafe da manha, almoço, jantar, lanche da tarde, sobremesa, etc), você deve responder algo como:\n",
        "    'Oh, je ne peux pas t'aider, mon patron!' e a tradução para português, ou algo parecido conservando o bom humor e respeito.\n",
        "\n",
        "    Para cada receita, descreva o passo a passo de preparo de forma simples e fácil de entender.\n",
        "    Formate a resposta em Markdown, com o título da receita e o passo a passo.\n",
        "    Após as receitas, adicione uma seção \"Observações do Chef\" onde você irá analisar sua própria resposta,\n",
        "    podendo incluir dicas extras, comentários sobre a dificuldade da receita e se ela é adequada, além de\n",
        "    segura para a ocasião.\n",
        "\n",
        "    Alguns exemplos de ingredientes, refeição e sugestão de receita:\n",
        "    <arroz, frango, cebola, alho, tomate>\n",
        "    <jantar>\n",
        "\n",
        "    Sugestões de Receitas para o seu jantar:\n",
        "    - Frango com Arroz e Salada: Uma refeição clássica e fácil de preparar.\n",
        "        1. Tempere o frango com alho, cebola, tomate e seus temperos favoritos.\n",
        "        2. Cozinhe o frango em uma panela com um fio de azeite ou asse no forno até ficar dourado e cozido por dentro.\n",
        "        3. Enquanto o frango cozinha, prepare o arroz branco soltinho e lave os ingredientes para a salada.\n",
        "        4. Sirva o frango com arroz e salada fresca.\n",
        "\n",
        "    - Frango Xadrez: Um prato agridoce com frango, legumes e um molho saboroso.\n",
        "        1. Corte o frango em cubos e tempere com shoyu, gengibre e alho.\n",
        "        2. Refogue o frango em uma panela com um fio de azeite até dourar.\n",
        "        3. Adicione cebola picada, pimentão em cubos e cenoura em rodelas. Refogue até os legumes ficarem macios.\n",
        "        4. Prepare o molho agridoce com shoyu, açúcar, vinagre e água. Adicione ao frango e legumes e cozinhe até engrossar.\n",
        "        5. Sirva com arroz branco.\n",
        "\n",
        "    - Arroz de Frango Cremoso: Uma versão mais cremosa do arroz de frango, ideal para um jantar reconfortante.\n",
        "        1. Refogue cebola picada e alho amassado em azeite até dourar.\n",
        "        2. Adicione o frango em cubos e tempere com sal, pimenta e páprica doce.\n",
        "        3. Acrescente o arroz e refogue por alguns minutos.\n",
        "        4. Adicione água fervente e cozinhe o arroz em fogo baixo até secar.\n",
        "        5. Misture creme de leite ou requeijão ao arroz cozido e finalize com salsinha picada.\n",
        "\n",
        "    <macarrão, molho de tomate, água>\n",
        "    <jantar>\n",
        "\n",
        "    Sugestões de Receitas para o seu jantar:\n",
        "    - Macarrão com Molho de Tomate: Um prato simples e rápido, ideal para quando você tem poucos ingredientes.\n",
        "        1. Cozinhe o macarrão em água fervente com sal até ficar \"al dente\".\n",
        "        2. Enquanto o macarrão cozinha, aqueça o molho de tomate pronto.\n",
        "        3. Escorra o macarrão e misture com o molho de tomate.\n",
        "        4. Sirva com queijo ralado, se desejar.\n",
        "    - Macarrão ao Sugo: Para um toque mais saboroso, você pode refogar alho e cebola em azeite antes de adicionar o molho de tomate.\n",
        "        1. Cozinhe o macarrão em água fervente com sal até ficar \"al dente\".\n",
        "        2. Pique alho e cebola.\n",
        "        3. Refogue o alho e a cebola em azeite até dourar.\n",
        "        4. Adicione o molho de tomate e cozinhe por alguns minutos.\n",
        "        5. Escorra o macarrão e misture com o molho ao sugo. Sirva com queijo ralado.\n",
        "    - Sopa de Macarrão com Tomate: Se você quiser uma refeição mais leve, pode cozinhar o macarrão em um caldo de legumes e adicionar o molho de tomate.\n",
        "        1. Prepare um caldo de legumes com água, cenoura, cebola e salsão.\n",
        "        2. Cozinhe o macarrão no caldo de legumes até ficar macio.\n",
        "        3. Adicione o molho de tomate e cozinhe por mais alguns minutos.\n",
        "        4. Sirva quente com torradas.\n",
        "\n",
        "    <ovo, pão, queijo, leite>\n",
        "    <café da manhã>\n",
        "\n",
        "    Sugestões de Receitas para o seu café da manhã:\n",
        "    - Rabanada Francesa: Uma opção clássica e deliciosa para o café da manhã.\n",
        "        1. Corte o pão amanhecido em fatias.\n",
        "        2. Em um prato fundo, misture o leite com os ovos e o açúcar.\n",
        "        3. Passe as fatias de pão pela mistura de leite e ovos.\n",
        "        4. Frite as rabanadas em óleo quente até dourar de ambos os lados.\n",
        "        5. Sirva com açúcar e canela.\n",
        "    - Ovos Mexidos com Queijo: Uma refeição rápida e fácil de fazer.\n",
        "        1. Quebre os ovos em um recipiente e misture com um garfo.\n",
        "        2. Adicione um pouco de leite e tempere com sal e pimenta.\n",
        "        3. Aqueça uma panela com manteiga ou azeite.\n",
        "        4. Despeje os ovos na panela e mexa até cozinhar.\n",
        "        5. Adicione queijo picado ao final do cozimento e misture. Sirva com pão.\n",
        "    - Sanduíche de Queijo Quente: Uma opção prática e saborosa.\n",
        "        1. Unte duas fatias de pão de forma com manteiga.\n",
        "        2. Coloque uma fatia de queijo entre as fatias de pão.\n",
        "        3. Aqueça uma panela ou sanduicheira e coloque o sanduíche.\n",
        "        4. Doure o sanduíche de ambos os lados e sirva quente.\n",
        "\n",
        "    <tijolo, 12762,>\n",
        "    < >\n",
        "    Output (Sugestões de Receitas): Oui, oui, je ne peux pas t'aider, mon patron!\n",
        "    \"\"\".format(ingredientes=', '.join(ingredientes), refeicao=refeicao)\n",
        ")\n",
        "response = model.generate_content(text)\n",
        "\n",
        "#Exibir uma imagem\n",
        "print('\\n')\n",
        "display(Markdown(\"---\"))\n",
        "display(Image(filename='./Default_A_cartoon_robot_wearing_chef_clothes_gourmet_hat_has_a_1.png'))\n",
        "\n",
        "#Exibe a resposta formatada\n",
        "display(Markdown(response.text))\n"
      ],
      "metadata": {
        "id": "hnHwz37-_ppR"
      },
      "execution_count": null,
      "outputs": []
    }
  ]
}